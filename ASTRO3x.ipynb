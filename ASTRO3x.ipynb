{
 "cells": [
  {
   "cell_type": "markdown",
   "metadata": {},
   "source": [
    "HQ1.1\n",
    "\n",
    "Imagine that you see a star moving in a circle. You suspect that it is doing this because it has an unseen companion. The star is 5 parsecs from the Earth, and the circles have an apparent radius of 10 arcseconds. A parsec is 3.09×10^16m, and an arcsecond is 1/60 of an arcminute, which is in turn 1/60 of a degree.\n",
    "\n",
    "What is the physical radius of the circle (in metres):\n",
    "\n",
    "Formula: r=D*Teta"
   ]
  },
  {
   "cell_type": "code",
   "execution_count": 10,
   "metadata": {},
   "outputs": [
    {
     "name": "stdout",
     "output_type": "stream",
     "text": [
      "r= 7477800000000.001\n"
     ]
    }
   ],
   "source": [
    "# Import math Library\n",
    "import math\n",
    "\n",
    "#Distance is 1.545x10^17 meters (5 parcecs)\n",
    "D=1.545*10**17\n",
    "#Teta is 4.84x10^-5 radians (10 arc seconds)\n",
    "Teta=4.84*10**-5\n",
    "\n",
    "\n",
    "r=D*Teta\n",
    "\n",
    "print(\"r=\",r)"
   ]
  },
  {
   "cell_type": "markdown",
   "metadata": {},
   "source": [
    "HQ1.2\n",
    "\n",
    "A star of mass 3.0×10^30 kg is moving in a circle of radius 1.0×10^12 metres, with a period of 100 years. This is due to the gravity of a second unseen object.\n",
    "\n",
    "What is the mass of this unseen object (in kg)? Your answer needs to be within 10% of the true answer.\n",
    "\n",
    "Formula = M2=4π2/GP^2*r1(r1+r2)^2"
   ]
  },
  {
   "cell_type": "code",
   "execution_count": 6,
   "metadata": {
    "scrolled": true
   },
   "outputs": [
    {
     "name": "stdout",
     "output_type": "stream",
     "text": [
      "r2 = 20.5 au\n",
      "M2 1st formula: 9.86548464560854e+29 kg\n",
      "M2 2nd formula: 9.78218338333116e+29 kg\n"
     ]
    }
   ],
   "source": [
    "# Import math Library\n",
    "import math\n",
    "\n",
    "#Distance from the second body to the center of mass (guess) in astral Units\n",
    "R2AU=20.5\n",
    "#Mass from the first body\n",
    "M1 = 3.0*10**30 \n",
    "#Mass from the second body\n",
    "M2 = 0\n",
    "#Distance from the first body to the center of mass\n",
    "R1 = 1.0*10**12 \n",
    "#Distance from the second body to the center of mass (guess) in meters\n",
    "R2 = 0\n",
    "#Period of the wooble\n",
    "P = 3.15*10**9\n",
    "#Gravitational constant\n",
    "G = 6.67*10**-11\n",
    "\n",
    "print(\"r2 =\", R2AU,\"au\")\n",
    "R2=R2AU*1.496*10**11\n",
    "M2=(4*math.pi**2)/(G*P**2)*(R1*(R1+R2)**2)\n",
    "print(\"M2 1st formula:\",M2,\"kg\")\n",
    "M2=M1*(R1/R2)\n",
    "print(\"M2 2nd formula:\",M2,\"kg\")\n",
    "\n"
   ]
  },
  {
   "cell_type": "markdown",
   "metadata": {},
   "source": [
    "HQ1.3\n",
    "\n",
    "Imagine that you have discovered a sun-like star (radius 700000 km, temperature 6000 K) with a binary companion which is 500 times fainter, but has a temperature of 10000 K.\n",
    "\n",
    "What is the radius of the binary companion (in km)?"
   ]
  },
  {
   "cell_type": "code",
   "execution_count": 17,
   "metadata": {},
   "outputs": [
    {
     "name": "stdout",
     "output_type": "stream",
     "text": [
      "radius= 11269.78260659894 km\n"
     ]
    }
   ],
   "source": [
    "R0 = 700000\n",
    "R1 = 0\n",
    "T0 = 6000\n",
    "T1 = 10000\n",
    "fainter = 500\n",
    "Tratio=0\n",
    "\n",
    "Tratio=(T0/T1)**4\n",
    "#print (Tratio)\n",
    "\n",
    "X = R0**2\n",
    "#print (X)\n",
    "R1=math.sqrt((X*Tratio)/fainter)\n",
    "\n",
    "print (\"radius=\",R1,\"km\")"
   ]
  },
  {
   "cell_type": "code",
   "execution_count": null,
   "metadata": {},
   "outputs": [],
   "source": []
  }
 ],
 "metadata": {
  "kernelspec": {
   "display_name": "Python 3",
   "language": "python",
   "name": "python3"
  },
  "language_info": {
   "codemirror_mode": {
    "name": "ipython",
    "version": 3
   },
   "file_extension": ".py",
   "mimetype": "text/x-python",
   "name": "python",
   "nbconvert_exporter": "python",
   "pygments_lexer": "ipython3",
   "version": "3.8.5"
  }
 },
 "nbformat": 4,
 "nbformat_minor": 4
}
